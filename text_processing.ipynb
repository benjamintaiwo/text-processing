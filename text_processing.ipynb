{
 "cells": [
  {
   "cell_type": "markdown",
   "metadata": {},
   "source": [
    "# Text Processing\n",
    "\n",
    "## Capturing Text Data\n",
    "\n",
    "### Plain Text"
   ]
  },
  {
   "cell_type": "code",
   "execution_count": 1,
   "metadata": {},
   "outputs": [
    {
     "name": "stdout",
     "output_type": "stream",
     "text": [
      "Hieroglyphic writing dates from c. 3000 BC, and is composed of hundreds of symbols. A hieroglyph can represent a word, a sound, or a silent determinative; and the same symbol can serve different purposes in different contexts. Hieroglyphs were a formal script, used on stone monuments and in tombs, that could be as detailed as individual works of art.\n",
      "\n"
     ]
    }
   ],
   "source": [
    "import os\n",
    "\n",
    "# Read in a plain text file\n",
    "with open(os.path.join(\"data\", \"hieroglyph.txt\"), \"r\") as f:\n",
    "    text = f.read()\n",
    "    print(text)"
   ]
  },
  {
   "cell_type": "markdown",
   "metadata": {},
   "source": [
    "### Tabular Data"
   ]
  },
  {
   "cell_type": "code",
   "execution_count": 2,
   "metadata": {
    "scrolled": true
   },
   "outputs": [
    {
     "data": {
      "text/html": [
       "<div>\n",
       "<style>\n",
       "    .dataframe thead tr:only-child th {\n",
       "        text-align: right;\n",
       "    }\n",
       "\n",
       "    .dataframe thead th {\n",
       "        text-align: left;\n",
       "    }\n",
       "\n",
       "    .dataframe tbody tr th {\n",
       "        vertical-align: top;\n",
       "    }\n",
       "</style>\n",
       "<table border=\"1\" class=\"dataframe\">\n",
       "  <thead>\n",
       "    <tr style=\"text-align: right;\">\n",
       "      <th></th>\n",
       "      <th>publisher</th>\n",
       "      <th>title</th>\n",
       "    </tr>\n",
       "  </thead>\n",
       "  <tbody>\n",
       "    <tr>\n",
       "      <th>0</th>\n",
       "      <td>Livemint</td>\n",
       "      <td>fed's charles plosser sees high bar for change...</td>\n",
       "    </tr>\n",
       "    <tr>\n",
       "      <th>1</th>\n",
       "      <td>IFA Magazine</td>\n",
       "      <td>us open: stocks fall after fed official hints ...</td>\n",
       "    </tr>\n",
       "    <tr>\n",
       "      <th>2</th>\n",
       "      <td>IFA Magazine</td>\n",
       "      <td>fed risks falling 'behind the curve', charles ...</td>\n",
       "    </tr>\n",
       "    <tr>\n",
       "      <th>3</th>\n",
       "      <td>Moneynews</td>\n",
       "      <td>fed's plosser: nasty weather has curbed job gr...</td>\n",
       "    </tr>\n",
       "    <tr>\n",
       "      <th>4</th>\n",
       "      <td>NASDAQ</td>\n",
       "      <td>plosser: fed may have to accelerate tapering pace</td>\n",
       "    </tr>\n",
       "  </tbody>\n",
       "</table>\n",
       "</div>"
      ],
      "text/plain": [
       "      publisher                                              title\n",
       "0      Livemint  fed's charles plosser sees high bar for change...\n",
       "1  IFA Magazine  us open: stocks fall after fed official hints ...\n",
       "2  IFA Magazine  fed risks falling 'behind the curve', charles ...\n",
       "3     Moneynews  fed's plosser: nasty weather has curbed job gr...\n",
       "4        NASDAQ  plosser: fed may have to accelerate tapering pace"
      ]
     },
     "execution_count": 2,
     "metadata": {},
     "output_type": "execute_result"
    }
   ],
   "source": [
    "import pandas as pd\n",
    "\n",
    "# Extract text column from a dataframe\n",
    "df = pd.read_csv(os.path.join(\"data\", \"news.csv\"))\n",
    "df.head()[['publisher', 'title']]\n",
    "\n",
    "# Convert text column to lowercase\n",
    "df['title'] = df['title'].str.lower()\n",
    "df.head()[['publisher', 'title']]"
   ]
  },
  {
   "cell_type": "markdown",
   "metadata": {},
   "source": [
    "### Online Resource"
   ]
  },
  {
   "cell_type": "code",
   "execution_count": 3,
   "metadata": {
    "scrolled": true
   },
   "outputs": [
    {
     "name": "stdout",
     "output_type": "stream",
     "text": [
      "{\n",
      "    \"success\": {\n",
      "        \"total\": 1\n",
      "    },\n",
      "    \"contents\": {\n",
      "        \"quotes\": [\n",
      "            {\n",
      "                \"quote\": \"Do the best you can until you know better. Then when you know better, do better.\",\n",
      "                \"length\": \"80\",\n",
      "                \"author\": \"Maya Angelou\",\n",
      "                \"tags\": [\n",
      "                    \"inspire\",\n",
      "                    \"wisdom\"\n",
      "                ],\n",
      "                \"category\": \"inspire\",\n",
      "                \"date\": \"2018-04-16\",\n",
      "                \"permalink\": \"https://theysaidso.com/quote/B27anrMZFJFeMsJyTvRkrweF/maya-angelou-do-the-best-you-can-until-you-know-better-then-when-you-know-better\",\n",
      "                \"title\": \"Inspiring Quote of the day\",\n",
      "                \"background\": \"https://theysaidso.com/img/bgs/man_on_the_mountain.jpg\",\n",
      "                \"id\": \"B27anrMZFJFeMsJyTvRkrweF\"\n",
      "            }\n",
      "        ],\n",
      "        \"copyright\": \"2017-19 theysaidso.com\"\n",
      "    }\n",
      "}\n",
      "Do the best you can until you know better. Then when you know better, do better. \n",
      "-- Maya Angelou\n"
     ]
    }
   ],
   "source": [
    "import requests\n",
    "import json\n",
    "\n",
    "# Fetch data from a REST API\n",
    "r = requests.get(\n",
    "    \"https://quotes.rest/qod.json\")\n",
    "res = r.json()\n",
    "print(json.dumps(res, indent=4))\n",
    "\n",
    "# Extract relevant object and field\n",
    "q = res[\"contents\"][\"quotes\"][0]\n",
    "print(q[\"quote\"], \"\\n--\", q[\"author\"])"
   ]
  },
  {
   "cell_type": "markdown",
   "metadata": {},
   "source": [
    "## Cleaning"
   ]
  },
  {
   "cell_type": "code",
   "execution_count": 1,
   "metadata": {
    "scrolled": true
   },
   "outputs": [
    {
     "name": "stdout",
     "output_type": "stream",
     "text": [
      "<html op=\"news\"><head><meta name=\"referrer\" content=\"origin\"><meta name=\"viewport\" content=\"width=device-width, initial-scale=1.0\"><link rel=\"stylesheet\" type=\"text/css\" href=\"news.css?0BDsSsFgYkvg4DJf5HO7\">\n",
      "            <link rel=\"shortcut icon\" href=\"favicon.ico\">\n",
      "          <link rel=\"alternate\" type=\"application/rss+xml\" title=\"RSS\" href=\"rss\">\n",
      "        <title>Hacker News</title></head><body><center><table id=\"hnmain\" border=\"0\" cellpadding=\"0\" cellspacing=\"0\" width=\"85%\" bgcolor=\"#f6f6ef\">\n",
      "        <tr><td bgcolor=\"#ff6600\"><table border=\"0\" cellpadding=\"0\" cellspacing=\"0\" width=\"100%\" style=\"padding:2px\"><tr><td style=\"width:18px;padding-right:4px\"><a href=\"https://news.ycombinator.com\"><img src=\"y18.gif\" width=\"18\" height=\"18\" style=\"border:1px white solid;\"></a></td>\n",
      "                  <td style=\"line-height:12pt; height:10px;\"><span class=\"pagetop\"><b class=\"hnname\"><a href=\"news\">Hacker News</a></b>\n",
      "              <a href=\"newest\">new</a> | <a href=\"newcomments\">comments</a> | <a href=\"show\">show</a> | <a href=\"ask\">ask</a> | <a href=\"jobs\">jobs</a> | <a href=\"submit\">submit</a>            </span></td><td style=\"text-align:right;padding-right:4px;\"><span class=\"pagetop\">\n",
      "                              <a href=\"login?goto=news\">login</a>\n",
      "                          </span></td>\n",
      "              </tr></table></td></tr>\n",
      "<tr style=\"height:10px\"></tr><tr><td><table border=\"0\" cellpadding=\"0\" cellspacing=\"0\" class=\"itemlist\">\n",
      "              <tr class='athing' id='16862925'>\n",
      "      <td align=\"right\" valign=\"top\" class=\"title\"><span class=\"rank\">1.</span></td>      <td valign=\"top\" class=\"votelinks\"><center><a id='up_16862925' href='vote?id=16862925&amp;how=up&amp;goto=news'><div class='votearrow' title='upvote'></div></a></center></td><td class=\"title\"><a href=\"https://www.mozilla.org/en-US/firefox/facebookcontainer\" class=\"storylink\">Facebook Container for Firefox</a><span class=\"sitebit comhead\"> (<a href=\"from?site=mozilla.org\"><span class=\"sitestr\">mozilla.org</span></a>)</span></td></tr><tr><td colspan=\"2\"></td><td class=\"subtext\">\n",
      "        <span class=\"score\" id=\"score_16862925\">768 points</span> by <a href=\"user?id=aaossa\" class=\"hnuser\">aaossa</a> <span class=\"age\"><a href=\"item?id=16862925\">9 hours ago</a></span> <span id=\"unv_16862925\"></span> | <a href=\"hide?id=16862925&amp;goto=news\">hide</a> | <a href=\"item?id=16862925\">203&nbsp;comments</a>              </td></tr>\n",
      "      <tr class=\"spacer\" style=\"height:5px\"></tr>\n",
      "                <tr class='athing' id='16863675'>\n",
      "      <td align=\"right\" valign=\"top\" class=\"title\"><span class=\"rank\">2.</span></td>      <td valign=\"top\" class=\"votelinks\"><center><a id='up_16863675' href='vote?id=16863675&amp;how=up&amp;goto=news'><div class='votearrow' title='upvote'></div></a></center></td><td class=\"title\"><a href=\"http://blog.zulip.org/2018/04/18/zulip-1-8-released/\" class=\"storylink\">Zulip 1.8: Free software Slack alternative with email-style threading</a><span class=\"sitebit comhead\"> (<a href=\"from?site=zulip.org\"><span class=\"sitestr\">zulip.org</span></a>)</span></td></tr><tr><td colspan=\"2\"></td><td class=\"subtext\">\n",
      "        <span class=\"score\" id=\"score_16863675\">225 points</span> by <a href=\"user?id=tabbott\" class=\"hnuser\">tabbott</a> <span class=\"age\"><a href=\"item?id=16863675\">7 hours ago</a></span> <span id=\"unv_16863675\"></span> | <a href=\"hide?id=16863675&amp;goto=news\">hide</a> | <a href=\"item?id=16863675\">55&nbsp;comments</a>              </td></tr>\n",
      "      <tr class=\"spacer\" style=\"height:5px\"></tr>\n",
      "                <tr class='athing' id='16862446'>\n",
      "      <td align=\"right\" valign=\"top\" class=\"title\"><span class=\"rank\">3.</span></td>      <td valign=\"top\" class=\"votelinks\"><center><a id='up_16862446' href='vote?id=16862446&amp;how=up&amp;goto=news'><div class='votearrow' title='upvote'></div></a></center></td><td class=\"title\"><a href=\"https://boltthreads.com/technology/mylo/\" class=\"storylink\">Mylo: A leather-like material made from mycelium</a><span class=\"sitebit comhead\"> (<a href=\"from?site=boltthreads.com\"><span class=\"sitestr\">boltthreads.com</span></a>)</span></td></tr><tr><td colspan=\"2\"></td><td class=\"subtext\">\n",
      "        <span class=\"score\" id=\"score_16862446\">365 points</span> by <a href=\"user?id=tuanx5\" class=\"hnuser\">tuanx5</a> <span class=\"age\"><a href=\"item?id=16862446\">10 hours ago</a></span> <span id=\"unv_16862446\"></span> | <a href=\"hide?id=16862446&amp;goto=news\">hide</a> | <a href=\"item?id=16862446\">91&nbsp;comments</a>              </td></tr>\n",
      "      <tr class=\"spacer\" style=\"height:5px\"></tr>\n",
      "                <tr class='athing' id='16859559'>\n",
      "      <td align=\"right\" valign=\"top\" class=\"title\"><span class=\"rank\">4.</span></td>      <td valign=\"top\" class=\"votelinks\"><center><a id='up_16859559' href='vote?id=16859559&amp;how=up&amp;goto=news'><div class='votearrow' title='upvote'></div></a></center></td><td class=\"title\"><a href=\"http://www.graalvm.org/\" class=\"storylink\">GraalVM: Run Programs Faster Anywhere</a><span class=\"sitebit comhead\"> (<a href=\"from?site=graalvm.org\"><span class=\"sitestr\">graalvm.org</span></a>)</span></td></tr><tr><td colspan=\"2\"></td><td class=\"subtext\">\n",
      "        <span class=\"score\" id=\"score_16859559\">550 points</span> by <a href=\"user?id=nirvdrum\" class=\"hnuser\">nirvdrum</a> <span class=\"age\"><a href=\"item?id=16859559\">12 hours ago</a></span> <span id=\"unv_16859559\"></span> | <a href=\"hide?id=16859559&amp;goto=news\">hide</a> | <a href=\"item?id=16859559\">135&nbsp;comments</a>              </td></tr>\n",
      "      <tr class=\"spacer\" style=\"height:5px\"></tr>\n",
      "                <tr class='athing' id='16863713'>\n",
      "      <td align=\"right\" valign=\"top\" class=\"title\"><span class=\"rank\">5.</span></td>      <td valign=\"top\" class=\"votelinks\"><center><a id='up_16863713' href='vote?id=16863713&amp;how=up&amp;goto=news'><div class='votearrow' title='upvote'></div></a></center></td><td class=\"title\"><a href=\"https://www.pine64.org/?page_id=3707\" class=\"storylink\">Pinebook: An Affordable 64-bit ARM based Open Source Notebook</a><span class=\"sitebit comhead\"> (<a href=\"from?site=pine64.org\"><span class=\"sitestr\">pine64.org</span></a>)</span></td></tr><tr><td colspan=\"2\"></td><td class=\"subtext\">\n",
      "        <span class=\"score\" id=\"score_16863713\">152 points</span> by <a href=\"user?id=tonteldoos\" class=\"hnuser\">tonteldoos</a> <span class=\"age\"><a href=\"item?id=16863713\">7 hours ago</a></span> <span id=\"unv_16863713\"></span> | <a href=\"hide?id=16863713&amp;goto=news\">hide</a> | <a href=\"item?id=16863713\">93&nbsp;comments</a>              </td></tr>\n",
      "      <tr class=\"spacer\" style=\"height:5px\"></tr>\n",
      "                <tr class='athing' id='16864925'>\n",
      "      <td align=\"right\" valign=\"top\" class=\"title\"><span class=\"rank\">6.</span></td>      <td valign=\"top\" class=\"votelinks\"><center><a id='up_16864925' href='vote?id=16864925&amp;how=up&amp;goto=news'><div class='votearrow' title='upvote'></div></a></center></td><td class=\"title\"><a href=\"item?id=16864925\" class=\"storylink\">Ask HN: What are some tech companies that do not use an open floor plan?</a></td></tr><tr><td colspan=\"2\"></td><td class=\"subtext\">\n",
      "        <span class=\"score\" id=\"score_16864925\">105 points</span> by <a href=\"user?id=cs44\" class=\"hnuser\">cs44</a> <span class=\"age\"><a href=\"item?id=16864925\">2 hours ago</a></span> <span id=\"unv_16864925\"></span> | <a href=\"hide?id=16864925&amp;goto=news\">hide</a> | <a href=\"item?id=16864925\">61&nbsp;comments</a>              </td></tr>\n",
      "      <tr class=\"spacer\" style=\"height:5px\"></tr>\n",
      "                <tr class='athing' id='16860074'>\n",
      "      <td align=\"right\" valign=\"top\" class=\"title\"><span class=\"rank\">7.</span></td>      <td valign=\"top\" class=\"votelinks\"><center><a id='up_16860074' href='vote?id=16860074&amp;how=up&amp;goto=news'><div class='votearrow' title='upvote'></div></a></center></td><td class=\"title\"><a href=\"https://www.quantamagazine.org/decades-old-graph-problem-yields-to-amateur-mathematician-20180417/\" class=\"storylink\">Decades-Old Graph Problem Yields to Amateur Mathematician</a><span class=\"sitebit comhead\"> (<a href=\"from?site=quantamagazine.org\"><span class=\"sitestr\">quantamagazine.org</span></a>)</span></td></tr><tr><td colspan=\"2\"></td><td class=\"subtext\">\n",
      "        <span class=\"score\" id=\"score_16860074\">342 points</span> by <a href=\"user?id=digital55\" class=\"hnuser\">digital55</a> <span class=\"age\"><a href=\"item?id=16860074\">12 hours ago</a></span> <span id=\"unv_16860074\"></span> | <a href=\"hide?id=16860074&amp;goto=news\">hide</a> | <a href=\"item?id=16860074\">102&nbsp;comments</a>              </td></tr>\n",
      "      <tr class=\"spacer\" style=\"height:5px\"></tr>\n",
      "                <tr class='athing' id='16863591'>\n",
      "      <td align=\"right\" valign=\"top\" class=\"title\"><span class=\"rank\">8.</span></td>      <td valign=\"top\" class=\"votelinks\"><center><a id='up_16863591' href='vote?id=16863591&amp;how=up&amp;goto=news'><div class='votearrow' title='upvote'></div></a></center></td><td class=\"title\"><a href=\"https://gist.github.com/prakhar1989/1b0a2c9849b2e1e912fb\" class=\"storylink\">On becoming a better developer (2015)</a><span class=\"sitebit comhead\"> (<a href=\"from?site=gist.github.com\"><span class=\"sitestr\">gist.github.com</span></a>)</span></td></tr><tr><td colspan=\"2\"></td><td class=\"subtext\">\n",
      "        <span class=\"score\" id=\"score_16863591\">149 points</span> by <a href=\"user?id=kristianp\" class=\"hnuser\">kristianp</a> <span class=\"age\"><a href=\"item?id=16863591\">7 hours ago</a></span> <span id=\"unv_16863591\"></span> | <a href=\"hide?id=16863591&amp;goto=news\">hide</a> | <a href=\"item?id=16863591\">44&nbsp;comments</a>              </td></tr>\n",
      "      <tr class=\"spacer\" style=\"height:5px\"></tr>\n",
      "                <tr class='athing' id='16863641'>\n",
      "      <td align=\"right\" valign=\"top\" class=\"title\"><span class=\"rank\">9.</span></td>      <td valign=\"top\" class=\"votelinks\"><center><a id='up_16863641' href='vote?id=16863641&amp;how=up&amp;goto=news'><div class='votearrow' title='upvote'></div></a></center></td><td class=\"title\"><a href=\"https://www.imaging-resource.com/news/2018/04/17/glass-for-geeks-an-in-depth-tour-of-nikons-hikari-glass-factory\" class=\"storylink\">An in-depth tour of Nikon’s Hikari Glass factory</a><span class=\"sitebit comhead\"> (<a href=\"from?site=imaging-resource.com\"><span class=\"sitestr\">imaging-resource.com</span></a>)</span></td></tr><tr><td colspan=\"2\"></td><td class=\"subtext\">\n",
      "        <span class=\"score\" id=\"score_16863641\">84 points</span> by <a href=\"user?id=sohkamyung\" class=\"hnuser\">sohkamyung</a> <span class=\"age\"><a href=\"item?id=16863641\">7 hours ago</a></span> <span id=\"unv_16863641\"></span> | <a href=\"hide?id=16863641&amp;goto=news\">hide</a> | <a href=\"item?id=16863641\">17&nbsp;comments</a>              </td></tr>\n",
      "      <tr class=\"spacer\" style=\"height:5px\"></tr>\n",
      "                <tr class='athing' id='16864566'>\n",
      "      <td align=\"right\" valign=\"top\" class=\"title\"><span class=\"rank\">10.</span></td>      <td valign=\"top\" class=\"votelinks\"><center><a id='up_16864566' href='vote?id=16864566&amp;how=up&amp;goto=news'><div class='votearrow' title='upvote'></div></a></center></td><td class=\"title\"><a href=\"https://www.fda.gov/NewsEvents/Newsroom/PressAnnouncements/ucm604263.htm\" class=\"storylink\">FDA clears first contact lens with light-adaptive technology</a><span class=\"sitebit comhead\"> (<a href=\"from?site=fda.gov\"><span class=\"sitestr\">fda.gov</span></a>)</span></td></tr><tr><td colspan=\"2\"></td><td class=\"subtext\">\n",
      "        <span class=\"score\" id=\"score_16864566\">20 points</span> by <a href=\"user?id=JumpCrisscross\" class=\"hnuser\">JumpCrisscross</a> <span class=\"age\"><a href=\"item?id=16864566\">3 hours ago</a></span> <span id=\"unv_16864566\"></span> | <a href=\"hide?id=16864566&amp;goto=news\">hide</a> | <a href=\"item?id=16864566\">13&nbsp;comments</a>              </td></tr>\n",
      "      <tr class=\"spacer\" style=\"height:5px\"></tr>\n",
      "                <tr class='athing' id='16862077'>\n",
      "      <td align=\"right\" valign=\"top\" class=\"title\"><span class=\"rank\">11.</span></td>      <td valign=\"top\" class=\"votelinks\"><center><a id='up_16862077' href='vote?id=16862077&amp;how=up&amp;goto=news'><div class='votearrow' title='upvote'></div></a></center></td><td class=\"title\"><a href=\"https://grisha.org/blog/2018/01/23/explaining-proof-of-work/\" class=\"storylink\">Proof-Of-Work is a Decentralized Clock</a><span class=\"sitebit comhead\"> (<a href=\"from?site=grisha.org\"><span class=\"sitestr\">grisha.org</span></a>)</span></td></tr><tr><td colspan=\"2\"></td><td class=\"subtext\">\n",
      "        <span class=\"score\" id=\"score_16862077\">171 points</span> by <a href=\"user?id=gtrubetskoy\" class=\"hnuser\">gtrubetskoy</a> <span class=\"age\"><a href=\"item?id=16862077\">11 hours ago</a></span> <span id=\"unv_16862077\"></span> | <a href=\"hide?id=16862077&amp;goto=news\">hide</a> | <a href=\"item?id=16862077\">95&nbsp;comments</a>              </td></tr>\n",
      "      <tr class=\"spacer\" style=\"height:5px\"></tr>\n",
      "                <tr class='athing' id='16860247'>\n",
      "      <td align=\"right\" valign=\"top\" class=\"title\"><span class=\"rank\">12.</span></td>      <td valign=\"top\" class=\"votelinks\"><center><a id='up_16860247' href='vote?id=16860247&amp;how=up&amp;goto=news'><div class='votearrow' title='upvote'></div></a></center></td><td class=\"title\"><a href=\"https://applied-data.science/blog/hallucinogenic-deep-reinforcement-learning-using-python-and-keras\" class=\"storylink\">A step-by-step guide to the “World Models” AI paper</a><span class=\"sitebit comhead\"> (<a href=\"from?site=applied-data.science\"><span class=\"sitestr\">applied-data.science</span></a>)</span></td></tr><tr><td colspan=\"2\"></td><td class=\"subtext\">\n",
      "        <span class=\"score\" id=\"score_16860247\">206 points</span> by <a href=\"user?id=davidfoster\" class=\"hnuser\">davidfoster</a> <span class=\"age\"><a href=\"item?id=16860247\">14 hours ago</a></span> <span id=\"unv_16860247\"></span> | <a href=\"hide?id=16860247&amp;goto=news\">hide</a> | <a href=\"item?id=16860247\">26&nbsp;comments</a>              </td></tr>\n",
      "      <tr class=\"spacer\" style=\"height:5px\"></tr>\n",
      "                <tr class='athing' id='16862545'>\n",
      "      <td align=\"right\" valign=\"top\" class=\"title\"><span class=\"rank\">13.</span></td>      <td valign=\"top\" class=\"votelinks\"><center><a id='up_16862545' href='vote?id=16862545&amp;how=up&amp;goto=news'><div class='votearrow' title='upvote'></div></a></center></td><td class=\"title\"><a href=\"https://github.com/Mailtrain-org/mailtrain\" class=\"storylink\">Mailtrain.org, self-hosted open-source newsletter app like Mailchimp</a><span class=\"sitebit comhead\"> (<a href=\"from?site=github.com\"><span class=\"sitestr\">github.com</span></a>)</span></td></tr><tr><td colspan=\"2\"></td><td class=\"subtext\">\n",
      "        <span class=\"score\" id=\"score_16862545\">86 points</span> by <a href=\"user?id=mottiden\" class=\"hnuser\">mottiden</a> <span class=\"age\"><a href=\"item?id=16862545\">10 hours ago</a></span> <span id=\"unv_16862545\"></span> | <a href=\"hide?id=16862545&amp;goto=news\">hide</a> | <a href=\"item?id=16862545\">30&nbsp;comments</a>              </td></tr>\n",
      "      <tr class=\"spacer\" style=\"height:5px\"></tr>\n",
      "                <tr class='athing' id='16863233'>\n",
      "      <td align=\"right\" valign=\"top\" class=\"title\"><span class=\"rank\">14.</span></td>      <td valign=\"top\" class=\"votelinks\"><center><a id='up_16863233' href='vote?id=16863233&amp;how=up&amp;goto=news'><div class='votearrow' title='upvote'></div></a></center></td><td class=\"title\"><a href=\"https://blog.regehr.org/archives/861\" class=\"storylink\">Operant Conditioning by Software Bugs (2012)</a><span class=\"sitebit comhead\"> (<a href=\"from?site=regehr.org\"><span class=\"sitestr\">regehr.org</span></a>)</span></td></tr><tr><td colspan=\"2\"></td><td class=\"subtext\">\n",
      "        <span class=\"score\" id=\"score_16863233\">51 points</span> by <a href=\"user?id=skybrian\" class=\"hnuser\">skybrian</a> <span class=\"age\"><a href=\"item?id=16863233\">8 hours ago</a></span> <span id=\"unv_16863233\"></span> | <a href=\"hide?id=16863233&amp;goto=news\">hide</a> | <a href=\"item?id=16863233\">5&nbsp;comments</a>              </td></tr>\n",
      "      <tr class=\"spacer\" style=\"height:5px\"></tr>\n",
      "                <tr class='athing' id='16863048'>\n",
      "      <td align=\"right\" valign=\"top\" class=\"title\"><span class=\"rank\">15.</span></td>      <td valign=\"top\" class=\"votelinks\"><center><a id='up_16863048' href='vote?id=16863048&amp;how=up&amp;goto=news'><div class='votearrow' title='upvote'></div></a></center></td><td class=\"title\"><a href=\"https://www.nytimes.com/2018/04/17/technology/china-huawei-washington.html\" class=\"storylink\">Huawei, Failing to Crack U.S. Market, Signals a Change in Tactics</a><span class=\"sitebit comhead\"> (<a href=\"from?site=nytimes.com\"><span class=\"sitestr\">nytimes.com</span></a>)</span></td></tr><tr><td colspan=\"2\"></td><td class=\"subtext\">\n",
      "        <span class=\"score\" id=\"score_16863048\">66 points</span> by <a href=\"user?id=johnny313\" class=\"hnuser\">johnny313</a> <span class=\"age\"><a href=\"item?id=16863048\">8 hours ago</a></span> <span id=\"unv_16863048\"></span> | <a href=\"hide?id=16863048&amp;goto=news\">hide</a> | <a href=\"item?id=16863048\">24&nbsp;comments</a>              </td></tr>\n",
      "      <tr class=\"spacer\" style=\"height:5px\"></tr>\n",
      "                <tr class='athing' id='16856456'>\n",
      "      <td align=\"right\" valign=\"top\" class=\"title\"><span class=\"rank\">16.</span></td>      <td valign=\"top\" class=\"votelinks\"><center><a id='up_16856456' href='vote?id=16856456&amp;how=up&amp;goto=news'><div class='votearrow' title='upvote'></div></a></center></td><td class=\"title\"><a href=\"https://www.nytimes.com/2018/04/16/science/friendship-brain-health.html\" class=\"storylink\">You Share Everything with Your Friends, Even Brain Waves</a><span class=\"sitebit comhead\"> (<a href=\"from?site=nytimes.com\"><span class=\"sitestr\">nytimes.com</span></a>)</span></td></tr><tr><td colspan=\"2\"></td><td class=\"subtext\">\n",
      "        <span class=\"score\" id=\"score_16856456\">95 points</span> by <a href=\"user?id=montrose\" class=\"hnuser\">montrose</a> <span class=\"age\"><a href=\"item?id=16856456\">12 hours ago</a></span> <span id=\"unv_16856456\"></span> | <a href=\"hide?id=16856456&amp;goto=news\">hide</a> | <a href=\"item?id=16856456\">38&nbsp;comments</a>              </td></tr>\n",
      "      <tr class=\"spacer\" style=\"height:5px\"></tr>\n",
      "                <tr class='athing' id='16865096'>\n",
      "      <td align=\"right\" valign=\"top\" class=\"title\"><span class=\"rank\">17.</span></td>      <td></td><td class=\"title\"><a href=\"https://jobs.lever.co/hellosign\" class=\"storylink\" rel=\"nofollow\">HelloSign (YC W11) Is Hiring Its First SFDC (Apex) Engineer. Remote (US Only)</a><span class=\"sitebit comhead\"> (<a href=\"from?site=lever.co\"><span class=\"sitestr\">lever.co</span></a>)</span></td></tr><tr><td colspan=\"2\"></td><td class=\"subtext\">\n",
      "        <span class=\"age\"><a href=\"item?id=16865096\">1 hour ago</a></span> | <a href=\"hide?id=16865096&amp;goto=news\">hide</a>      </td></tr>\n",
      "      <tr class=\"spacer\" style=\"height:5px\"></tr>\n",
      "                <tr class='athing' id='16862048'>\n",
      "      <td align=\"right\" valign=\"top\" class=\"title\"><span class=\"rank\">18.</span></td>      <td valign=\"top\" class=\"votelinks\"><center><a id='up_16862048' href='vote?id=16862048&amp;how=up&amp;goto=news'><div class='votearrow' title='upvote'></div></a></center></td><td class=\"title\"><a href=\"https://www.theatlantic.com/science/archive/2016/06/the-contagious-cancer-that-jumps-between-species/487841/?single_page=true\" class=\"storylink\">A Contagious Cancer That Jumped Between Species</a><span class=\"sitebit comhead\"> (<a href=\"from?site=theatlantic.com\"><span class=\"sitestr\">theatlantic.com</span></a>)</span></td></tr><tr><td colspan=\"2\"></td><td class=\"subtext\">\n",
      "        <span class=\"score\" id=\"score_16862048\">90 points</span> by <a href=\"user?id=katiey\" class=\"hnuser\">katiey</a> <span class=\"age\"><a href=\"item?id=16862048\">11 hours ago</a></span> <span id=\"unv_16862048\"></span> | <a href=\"hide?id=16862048&amp;goto=news\">hide</a> | <a href=\"item?id=16862048\">23&nbsp;comments</a>              </td></tr>\n",
      "      <tr class=\"spacer\" style=\"height:5px\"></tr>\n",
      "                <tr class='athing' id='16864463'>\n",
      "      <td align=\"right\" valign=\"top\" class=\"title\"><span class=\"rank\">19.</span></td>      <td valign=\"top\" class=\"votelinks\"><center><a id='up_16864463' href='vote?id=16864463&amp;how=up&amp;goto=news'><div class='votearrow' title='upvote'></div></a></center></td><td class=\"title\"><a href=\"https://blog.ycombinator.com/startup-mechanics-with-kirsty-nathoo/\" class=\"storylink\">Startup Mechanics (2017) [video]</a><span class=\"sitebit comhead\"> (<a href=\"from?site=ycombinator.com\"><span class=\"sitestr\">ycombinator.com</span></a>)</span></td></tr><tr><td colspan=\"2\"></td><td class=\"subtext\">\n",
      "        <span class=\"score\" id=\"score_16864463\">15 points</span> by <a href=\"user?id=DanielRibeiro\" class=\"hnuser\">DanielRibeiro</a> <span class=\"age\"><a href=\"item?id=16864463\">4 hours ago</a></span> <span id=\"unv_16864463\"></span> | <a href=\"hide?id=16864463&amp;goto=news\">hide</a> | <a href=\"item?id=16864463\">discuss</a>              </td></tr>\n",
      "      <tr class=\"spacer\" style=\"height:5px\"></tr>\n",
      "                <tr class='athing' id='16863375'>\n",
      "      <td align=\"right\" valign=\"top\" class=\"title\"><span class=\"rank\">20.</span></td>      <td valign=\"top\" class=\"votelinks\"><center><a id='up_16863375' href='vote?id=16863375&amp;how=up&amp;goto=news'><div class='votearrow' title='upvote'></div></a></center></td><td class=\"title\"><a href=\"https://wpplugincheck.com/\" class=\"storylink\">Show HN: I Write In-Depth Wordpress Plugin Reviews</a><span class=\"sitebit comhead\"> (<a href=\"from?site=wpplugincheck.com\"><span class=\"sitestr\">wpplugincheck.com</span></a>)</span></td></tr><tr><td colspan=\"2\"></td><td class=\"subtext\">\n",
      "        <span class=\"score\" id=\"score_16863375\">38 points</span> by <a href=\"user?id=shash7\" class=\"hnuser\">shash7</a> <span class=\"age\"><a href=\"item?id=16863375\">8 hours ago</a></span> <span id=\"unv_16863375\"></span> | <a href=\"hide?id=16863375&amp;goto=news\">hide</a> | <a href=\"item?id=16863375\">7&nbsp;comments</a>              </td></tr>\n",
      "      <tr class=\"spacer\" style=\"height:5px\"></tr>\n",
      "                <tr class='athing' id='16863266'>\n",
      "      <td align=\"right\" valign=\"top\" class=\"title\"><span class=\"rank\">21.</span></td>      <td valign=\"top\" class=\"votelinks\"><center><a id='up_16863266' href='vote?id=16863266&amp;how=up&amp;goto=news'><div class='votearrow' title='upvote'></div></a></center></td><td class=\"title\"><a href=\"https://www.npr.org/2018/04/17/528656453/npr-newscaster-carl-kasell-dies-at-84-after-a-lifelong-career-on-air\" class=\"storylink\">Carl Kasell Has Died</a><span class=\"sitebit comhead\"> (<a href=\"from?site=npr.org\"><span class=\"sitestr\">npr.org</span></a>)</span></td></tr><tr><td colspan=\"2\"></td><td class=\"subtext\">\n",
      "        <span class=\"score\" id=\"score_16863266\">159 points</span> by <a href=\"user?id=Bud\" class=\"hnuser\">Bud</a> <span class=\"age\"><a href=\"item?id=16863266\">8 hours ago</a></span> <span id=\"unv_16863266\"></span> | <a href=\"hide?id=16863266&amp;goto=news\">hide</a> | <a href=\"item?id=16863266\">16&nbsp;comments</a>              </td></tr>\n",
      "      <tr class=\"spacer\" style=\"height:5px\"></tr>\n",
      "                <tr class='athing' id='16864050'>\n",
      "      <td align=\"right\" valign=\"top\" class=\"title\"><span class=\"rank\">22.</span></td>      <td valign=\"top\" class=\"votelinks\"><center><a id='up_16864050' href='vote?id=16864050&amp;how=up&amp;goto=news'><div class='votearrow' title='upvote'></div></a></center></td><td class=\"title\"><a href=\"http://bbcsfx.acropolis.org.uk/\" class=\"storylink\">BBC Sound Effects made available to download for use under RemArc Licence</a><span class=\"sitebit comhead\"> (<a href=\"from?site=acropolis.org.uk\"><span class=\"sitestr\">acropolis.org.uk</span></a>)</span></td></tr><tr><td colspan=\"2\"></td><td class=\"subtext\">\n",
      "        <span class=\"score\" id=\"score_16864050\">20 points</span> by <a href=\"user?id=sohkamyung\" class=\"hnuser\">sohkamyung</a> <span class=\"age\"><a href=\"item?id=16864050\">5 hours ago</a></span> <span id=\"unv_16864050\"></span> | <a href=\"hide?id=16864050&amp;goto=news\">hide</a> | <a href=\"item?id=16864050\">1&nbsp;comment</a>              </td></tr>\n",
      "      <tr class=\"spacer\" style=\"height:5px\"></tr>\n",
      "                <tr class='athing' id='16864521'>\n",
      "      <td align=\"right\" valign=\"top\" class=\"title\"><span class=\"rank\">23.</span></td>      <td valign=\"top\" class=\"votelinks\"><center><a id='up_16864521' href='vote?id=16864521&amp;how=up&amp;goto=news'><div class='votearrow' title='upvote'></div></a></center></td><td class=\"title\"><a href=\"https://hypoalex.github.io/smartos/design/a-smarter-smartos.html\" class=\"storylink\">A smarter SmartOS?</a><span class=\"sitebit comhead\"> (<a href=\"from?site=hypoalex.github.io\"><span class=\"sitestr\">hypoalex.github.io</span></a>)</span></td></tr><tr><td colspan=\"2\"></td><td class=\"subtext\">\n",
      "        <span class=\"score\" id=\"score_16864521\">10 points</span> by <a href=\"user?id=cxrbxn\" class=\"hnuser\">cxrbxn</a> <span class=\"age\"><a href=\"item?id=16864521\">3 hours ago</a></span> <span id=\"unv_16864521\"></span> | <a href=\"hide?id=16864521&amp;goto=news\">hide</a> | <a href=\"item?id=16864521\">1&nbsp;comment</a>              </td></tr>\n",
      "      <tr class=\"spacer\" style=\"height:5px\"></tr>\n",
      "                <tr class='athing' id='16860304'>\n",
      "      <td align=\"right\" valign=\"top\" class=\"title\"><span class=\"rank\">24.</span></td>      <td valign=\"top\" class=\"votelinks\"><center><a id='up_16860304' href='vote?id=16860304&amp;how=up&amp;goto=news'><div class='votearrow' title='upvote'></div></a></center></td><td class=\"title\"><a href=\"https://research.googleblog.com/2018/04/an-augmented-reality-microscope.html\" class=\"storylink\">An Augmented Reality Microscope for Cancer Detection</a><span class=\"sitebit comhead\"> (<a href=\"from?site=googleblog.com\"><span class=\"sitestr\">googleblog.com</span></a>)</span></td></tr><tr><td colspan=\"2\"></td><td class=\"subtext\">\n",
      "        <span class=\"score\" id=\"score_16860304\">109 points</span> by <a href=\"user?id=kbyatnal\" class=\"hnuser\">kbyatnal</a> <span class=\"age\"><a href=\"item?id=16860304\">14 hours ago</a></span> <span id=\"unv_16860304\"></span> | <a href=\"hide?id=16860304&amp;goto=news\">hide</a> | <a href=\"item?id=16860304\">14&nbsp;comments</a>              </td></tr>\n",
      "      <tr class=\"spacer\" style=\"height:5px\"></tr>\n",
      "                <tr class='athing' id='16856982'>\n",
      "      <td align=\"right\" valign=\"top\" class=\"title\"><span class=\"rank\">25.</span></td>      <td valign=\"top\" class=\"votelinks\"><center><a id='up_16856982' href='vote?id=16856982&amp;how=up&amp;goto=news'><div class='votearrow' title='upvote'></div></a></center></td><td class=\"title\"><a href=\"https://hub.jhu.edu/2018/03/02/adam-riess-cosmic-ladder-universe-expansion/\" class=\"storylink\">Improved Hubble data provide fresh evidence for new physics</a><span class=\"sitebit comhead\"> (<a href=\"from?site=jhu.edu\"><span class=\"sitestr\">jhu.edu</span></a>)</span></td></tr><tr><td colspan=\"2\"></td><td class=\"subtext\">\n",
      "        <span class=\"score\" id=\"score_16856982\">50 points</span> by <a href=\"user?id=rbanffy\" class=\"hnuser\">rbanffy</a> <span class=\"age\"><a href=\"item?id=16856982\">11 hours ago</a></span> <span id=\"unv_16856982\"></span> | <a href=\"hide?id=16856982&amp;goto=news\">hide</a> | <a href=\"item?id=16856982\">16&nbsp;comments</a>              </td></tr>\n",
      "      <tr class=\"spacer\" style=\"height:5px\"></tr>\n",
      "                <tr class='athing' id='16862949'>\n",
      "      <td align=\"right\" valign=\"top\" class=\"title\"><span class=\"rank\">26.</span></td>      <td valign=\"top\" class=\"votelinks\"><center><a id='up_16862949' href='vote?id=16862949&amp;how=up&amp;goto=news'><div class='votearrow' title='upvote'></div></a></center></td><td class=\"title\"><a href=\"https://www.reddit.com/r/javascript/comments/8d0bg2/oracle_owns_javascript_so_apple_is_taking_down_my/\" class=\"storylink\">Oracle owns “JavaScript”, so Apple is taking down my app</a><span class=\"sitebit comhead\"> (<a href=\"from?site=reddit.com\"><span class=\"sitestr\">reddit.com</span></a>)</span></td></tr><tr><td colspan=\"2\"></td><td class=\"subtext\">\n",
      "        <span class=\"score\" id=\"score_16862949\">294 points</span> by <a href=\"user?id=petercooper\" class=\"hnuser\">petercooper</a> <span class=\"age\"><a href=\"item?id=16862949\">9 hours ago</a></span> <span id=\"unv_16862949\"></span> | <a href=\"hide?id=16862949&amp;goto=news\">hide</a> | <a href=\"item?id=16862949\">125&nbsp;comments</a>              </td></tr>\n",
      "      <tr class=\"spacer\" style=\"height:5px\"></tr>\n",
      "                <tr class='athing' id='16863902'>\n",
      "      <td align=\"right\" valign=\"top\" class=\"title\"><span class=\"rank\">27.</span></td>      <td valign=\"top\" class=\"votelinks\"><center><a id='up_16863902' href='vote?id=16863902&amp;how=up&amp;goto=news'><div class='votearrow' title='upvote'></div></a></center></td><td class=\"title\"><a href=\"http://www.albertgao.xyz/2018/04/18/dependency-injection-on-android-with-dagger-android-and-kotlin/\" class=\"storylink\">Dependency injection on Android with dagger-android and Kotlin</a><span class=\"sitebit comhead\"> (<a href=\"from?site=albertgao.xyz\"><span class=\"sitestr\">albertgao.xyz</span></a>)</span></td></tr><tr><td colspan=\"2\"></td><td class=\"subtext\">\n",
      "        <span class=\"score\" id=\"score_16863902\">22 points</span> by <a href=\"user?id=albertgao\" class=\"hnuser\">albertgao</a> <span class=\"age\"><a href=\"item?id=16863902\">6 hours ago</a></span> <span id=\"unv_16863902\"></span> | <a href=\"hide?id=16863902&amp;goto=news\">hide</a> | <a href=\"item?id=16863902\">8&nbsp;comments</a>              </td></tr>\n",
      "      <tr class=\"spacer\" style=\"height:5px\"></tr>\n",
      "                <tr class='athing' id='16863779'>\n",
      "      <td align=\"right\" valign=\"top\" class=\"title\"><span class=\"rank\">28.</span></td>      <td valign=\"top\" class=\"votelinks\"><center><a id='up_16863779' href='vote?id=16863779&amp;how=up&amp;goto=news'><div class='votearrow' title='upvote'></div></a></center></td><td class=\"title\"><a href=\"https://insomnia.rest/graphql/\" class=\"storylink\">Insomnia GraphQL Support</a><span class=\"sitebit comhead\"> (<a href=\"from?site=insomnia.rest\"><span class=\"sitestr\">insomnia.rest</span></a>)</span></td></tr><tr><td colspan=\"2\"></td><td class=\"subtext\">\n",
      "        <span class=\"score\" id=\"score_16863779\">66 points</span> by <a href=\"user?id=gschier\" class=\"hnuser\">gschier</a> <span class=\"age\"><a href=\"item?id=16863779\">6 hours ago</a></span> <span id=\"unv_16863779\"></span> | <a href=\"hide?id=16863779&amp;goto=news\">hide</a> | <a href=\"item?id=16863779\">10&nbsp;comments</a>              </td></tr>\n",
      "      <tr class=\"spacer\" style=\"height:5px\"></tr>\n",
      "                <tr class='athing' id='16859025'>\n",
      "      <td align=\"right\" valign=\"top\" class=\"title\"><span class=\"rank\">29.</span></td>      <td valign=\"top\" class=\"votelinks\"><center><a id='up_16859025' href='vote?id=16859025&amp;how=up&amp;goto=news'><div class='votearrow' title='upvote'></div></a></center></td><td class=\"title\"><a href=\"https://www.fda.gov/NewsEvents/Newsroom/PressAnnouncements/ucm604357.htm\" class=\"storylink\">FDA permits marketing of AI-based device to detect diabetes-related eye problems</a><span class=\"sitebit comhead\"> (<a href=\"from?site=fda.gov\"><span class=\"sitestr\">fda.gov</span></a>)</span></td></tr><tr><td colspan=\"2\"></td><td class=\"subtext\">\n",
      "        <span class=\"score\" id=\"score_16859025\">266 points</span> by <a href=\"user?id=nradov\" class=\"hnuser\">nradov</a> <span class=\"age\"><a href=\"item?id=16859025\">16 hours ago</a></span> <span id=\"unv_16859025\"></span> | <a href=\"hide?id=16859025&amp;goto=news\">hide</a> | <a href=\"item?id=16859025\">95&nbsp;comments</a>              </td></tr>\n",
      "      <tr class=\"spacer\" style=\"height:5px\"></tr>\n",
      "                <tr class='athing' id='16863434'>\n",
      "      <td align=\"right\" valign=\"top\" class=\"title\"><span class=\"rank\">30.</span></td>      <td valign=\"top\" class=\"votelinks\"><center><a id='up_16863434' href='vote?id=16863434&amp;how=up&amp;goto=news'><div class='votearrow' title='upvote'></div></a></center></td><td class=\"title\"><a href=\"https://builtbykrit.com/blog/network-effects-defensible-product\" class=\"storylink\">Using network effects (not patents) to build defensible software</a><span class=\"sitebit comhead\"> (<a href=\"from?site=builtbykrit.com\"><span class=\"sitestr\">builtbykrit.com</span></a>)</span></td></tr><tr><td colspan=\"2\"></td><td class=\"subtext\">\n",
      "        <span class=\"score\" id=\"score_16863434\">13 points</span> by <a href=\"user?id=askins4trouble\" class=\"hnuser\">askins4trouble</a> <span class=\"age\"><a href=\"item?id=16863434\">7 hours ago</a></span> <span id=\"unv_16863434\"></span> | <a href=\"hide?id=16863434&amp;goto=news\">hide</a> | <a href=\"item?id=16863434\">2&nbsp;comments</a>              </td></tr>\n",
      "      <tr class=\"spacer\" style=\"height:5px\"></tr>\n",
      "            <tr class=\"morespace\" style=\"height:10px\"></tr><tr><td colspan=\"2\"></td><td class=\"title\"><a href=\"news?p=2\" class=\"morelink\" rel=\"nofollow\">More</a></td></tr>\n",
      "  </table>\n",
      "</td></tr>\n",
      "<tr><td><img src=\"s.gif\" height=\"10\" width=\"0\"><table width=\"100%\" cellspacing=\"0\" cellpadding=\"1\"><tr><td bgcolor=\"#ff6600\"></td></tr></table><br><center><span class=\"yclinks\"><a href=\"newsguidelines.html\">Guidelines</a>\n",
      "        | <a href=\"newsfaq.html\">FAQ</a>\n",
      "        | <a href=\"mailto:hn@ycombinator.com\">Support</a>\n",
      "        | <a href=\"https://github.com/HackerNews/API\">API</a>\n",
      "        | <a href=\"security.html\">Security</a>\n",
      "        | <a href=\"lists\">Lists</a>\n",
      "        | <a href=\"bookmarklet.html\" rel=\"nofollow\">Bookmarklet</a>\n",
      "        | <a href=\"http://www.ycombinator.com/legal/\">Legal</a>\n",
      "        | <a href=\"http://www.ycombinator.com/apply/\">Apply to YC</a>\n",
      "        | <a href=\"mailto:hn@ycombinator.com\">Contact</a></span><br><br><form method=\"get\" action=\"//hn.algolia.com/\">Search:\n",
      "          <input type=\"text\" name=\"q\" value=\"\" size=\"17\" autocorrect=\"off\" spellcheck=\"false\" autocapitalize=\"off\" autocomplete=\"false\"></form>\n",
      "            </center></td></tr>\n",
      "      </table></center></body><script type='text/javascript' src='hn.js?0BDsSsFgYkvg4DJf5HO7'></script>\n",
      "  </html>\n",
      "\n"
     ]
    }
   ],
   "source": [
    "import requests\n",
    "\n",
    "# Fetch a web page\n",
    "r = requests.get(\"https://news.ycombinator.com\")\n",
    "print(r.text)"
   ]
  },
  {
   "cell_type": "code",
   "execution_count": 2,
   "metadata": {},
   "outputs": [
    {
     "name": "stdout",
     "output_type": "stream",
     "text": [
      "\n",
      "            \n",
      "          \n",
      "        Hacker News\n",
      "        \n",
      "                  Hacker News\n",
      "              new | comments | show | ask | jobs | submit            \n",
      "                              login\n",
      "                          \n",
      "              \n",
      "\n",
      "              \n",
      "      1.      Facebook Container for Firefox (mozilla.org)\n",
      "        768 points by aaossa 9 hours ago  | hide | 203&nbsp;comments              \n",
      "      \n",
      "                \n",
      "      2.      Zulip 1.8: Free software Slack alternative with email-style threading (zulip.org)\n",
      "        225 points by tabbott 7 hours ago  | hide | 55&nbsp;comments              \n",
      "      \n",
      "                \n",
      "      3.      Mylo: A leather-like material made from mycelium (boltthreads.com)\n",
      "        365 points by tuanx5 10 hours ago  | hide | 91&nbsp;comments              \n",
      "      \n",
      "                \n",
      "      4.      GraalVM: Run Programs Faster Anywhere (graalvm.org)\n",
      "        550 points by nirvdrum 12 hours ago  | hide | 135&nbsp;comments              \n",
      "      \n",
      "                \n",
      "      5.      Pinebook: An Affordable 64-bit ARM based Open Source Notebook (pine64.org)\n",
      "        152 points by tonteldoos 7 hours ago  | hide | 93&nbsp;comments              \n",
      "      \n",
      "                \n",
      "      6.      Ask HN: What are some tech companies that do not use an open floor plan?\n",
      "        105 points by cs44 2 hours ago  | hide | 61&nbsp;comments              \n",
      "      \n",
      "                \n",
      "      7.      Decades-Old Graph Problem Yields to Amateur Mathematician (quantamagazine.org)\n",
      "        342 points by digital55 12 hours ago  | hide | 102&nbsp;comments              \n",
      "      \n",
      "                \n",
      "      8.      On becoming a better developer (2015) (gist.github.com)\n",
      "        149 points by kristianp 7 hours ago  | hide | 44&nbsp;comments              \n",
      "      \n",
      "                \n",
      "      9.      An in-depth tour of Nikon’s Hikari Glass factory (imaging-resource.com)\n",
      "        84 points by sohkamyung 7 hours ago  | hide | 17&nbsp;comments              \n",
      "      \n",
      "                \n",
      "      10.      FDA clears first contact lens with light-adaptive technology (fda.gov)\n",
      "        20 points by JumpCrisscross 3 hours ago  | hide | 13&nbsp;comments              \n",
      "      \n",
      "                \n",
      "      11.      Proof-Of-Work is a Decentralized Clock (grisha.org)\n",
      "        171 points by gtrubetskoy 11 hours ago  | hide | 95&nbsp;comments              \n",
      "      \n",
      "                \n",
      "      12.      A step-by-step guide to the “World Models” AI paper (applied-data.science)\n",
      "        206 points by davidfoster 14 hours ago  | hide | 26&nbsp;comments              \n",
      "      \n",
      "                \n",
      "      13.      Mailtrain.org, self-hosted open-source newsletter app like Mailchimp (github.com)\n",
      "        86 points by mottiden 10 hours ago  | hide | 30&nbsp;comments              \n",
      "      \n",
      "                \n",
      "      14.      Operant Conditioning by Software Bugs (2012) (regehr.org)\n",
      "        51 points by skybrian 8 hours ago  | hide | 5&nbsp;comments              \n",
      "      \n",
      "                \n",
      "      15.      Huawei, Failing to Crack U.S. Market, Signals a Change in Tactics (nytimes.com)\n",
      "        66 points by johnny313 8 hours ago  | hide | 24&nbsp;comments              \n",
      "      \n",
      "                \n",
      "      16.      You Share Everything with Your Friends, Even Brain Waves (nytimes.com)\n",
      "        95 points by montrose 12 hours ago  | hide | 38&nbsp;comments              \n",
      "      \n",
      "                \n",
      "      17.      HelloSign (YC W11) Is Hiring Its First SFDC (Apex) Engineer. Remote (US Only) (lever.co)\n",
      "        1 hour ago | hide      \n",
      "      \n",
      "                \n",
      "      18.      A Contagious Cancer That Jumped Between Species (theatlantic.com)\n",
      "        90 points by katiey 11 hours ago  | hide | 23&nbsp;comments              \n",
      "      \n",
      "                \n",
      "      19.      Startup Mechanics (2017) [video] (ycombinator.com)\n",
      "        15 points by DanielRibeiro 4 hours ago  | hide | discuss              \n",
      "      \n",
      "                \n",
      "      20.      Show HN: I Write In-Depth Wordpress Plugin Reviews (wpplugincheck.com)\n",
      "        38 points by shash7 8 hours ago  | hide | 7&nbsp;comments              \n",
      "      \n",
      "                \n",
      "      21.      Carl Kasell Has Died (npr.org)\n",
      "        159 points by Bud 8 hours ago  | hide | 16&nbsp;comments              \n",
      "      \n",
      "                \n",
      "      22.      BBC Sound Effects made available to download for use under RemArc Licence (acropolis.org.uk)\n",
      "        20 points by sohkamyung 5 hours ago  | hide | 1&nbsp;comment              \n",
      "      \n",
      "                \n",
      "      23.      A smarter SmartOS? (hypoalex.github.io)\n",
      "        10 points by cxrbxn 3 hours ago  | hide | 1&nbsp;comment              \n",
      "      \n",
      "                \n",
      "      24.      An Augmented Reality Microscope for Cancer Detection (googleblog.com)\n",
      "        109 points by kbyatnal 14 hours ago  | hide | 14&nbsp;comments              \n",
      "      \n",
      "                \n",
      "      25.      Improved Hubble data provide fresh evidence for new physics (jhu.edu)\n",
      "        50 points by rbanffy 11 hours ago  | hide | 16&nbsp;comments              \n",
      "      \n",
      "                \n",
      "      26.      Oracle owns “JavaScript”, so Apple is taking down my app (reddit.com)\n",
      "        294 points by petercooper 9 hours ago  | hide | 125&nbsp;comments              \n",
      "      \n",
      "                \n",
      "      27.      Dependency injection on Android with dagger-android and Kotlin (albertgao.xyz)\n",
      "        22 points by albertgao 6 hours ago  | hide | 8&nbsp;comments              \n",
      "      \n",
      "                \n",
      "      28.      Insomnia GraphQL Support (insomnia.rest)\n",
      "        66 points by gschier 6 hours ago  | hide | 10&nbsp;comments              \n",
      "      \n",
      "                \n",
      "      29.      FDA permits marketing of AI-based device to detect diabetes-related eye problems (fda.gov)\n",
      "        266 points by nradov 16 hours ago  | hide | 95&nbsp;comments              \n",
      "      \n",
      "                \n",
      "      30.      Using network effects (not patents) to build defensible software (builtbykrit.com)\n",
      "        13 points by askins4trouble 7 hours ago  | hide | 2&nbsp;comments              \n",
      "      \n",
      "            More\n",
      "  \n",
      "\n",
      "Guidelines\n",
      "        | FAQ\n",
      "        | Support\n",
      "        | API\n",
      "        | Security\n",
      "        | Lists\n",
      "        | Bookmarklet\n",
      "        | Legal\n",
      "        | Apply to YC\n",
      "        | ContactSearch:\n",
      "          \n",
      "            \n",
      "      \n",
      "  \n",
      "\n"
     ]
    }
   ],
   "source": [
    "import re\n",
    "\n",
    "# Remove HTML tags using RegEx\n",
    "pattern = re.compile(r'<.*?>')  # tags look like <...>\n",
    "print(pattern.sub('', r.text))  # replace them with blank"
   ]
  },
  {
   "cell_type": "code",
   "execution_count": 3,
   "metadata": {},
   "outputs": [
    {
     "name": "stdout",
     "output_type": "stream",
     "text": [
      "\n",
      "            \n",
      "          \n",
      "        Hacker News\n",
      "        \n",
      "                  Hacker News\n",
      "              new | comments | show | ask | jobs | submit            \n",
      "                              login\n",
      "                          \n",
      "              \n",
      "\n",
      "              \n",
      "      1.      Facebook Container for Firefox (mozilla.org)\n",
      "        768 points by aaossa 9 hours ago  | hide | 203 comments              \n",
      "      \n",
      "                \n",
      "      2.      Zulip 1.8: Free software Slack alternative with email-style threading (zulip.org)\n",
      "        225 points by tabbott 7 hours ago  | hide | 55 comments              \n",
      "      \n",
      "                \n",
      "      3.      Mylo: A leather-like material made from mycelium (boltthreads.com)\n",
      "        365 points by tuanx5 10 hours ago  | hide | 91 comments              \n",
      "      \n",
      "                \n",
      "      4.      GraalVM: Run Programs Faster Anywhere (graalvm.org)\n",
      "        550 points by nirvdrum 12 hours ago  | hide | 135 comments              \n",
      "      \n",
      "                \n",
      "      5.      Pinebook: An Affordable 64-bit ARM based Open Source Notebook (pine64.org)\n",
      "        152 points by tonteldoos 7 hours ago  | hide | 93 comments              \n",
      "      \n",
      "                \n",
      "      6.      Ask HN: What are some tech companies that do not use an open floor plan?\n",
      "        105 points by cs44 2 hours ago  | hide | 61 comments              \n",
      "      \n",
      "                \n",
      "      7.      Decades-Old Graph Problem Yields to Amateur Mathematician (quantamagazine.org)\n",
      "        342 points by digital55 12 hours ago  | hide | 102 comments              \n",
      "      \n",
      "                \n",
      "      8.      On becoming a better developer (2015) (gist.github.com)\n",
      "        149 points by kristianp 7 hours ago  | hide | 44 comments              \n",
      "      \n",
      "                \n",
      "      9.      An in-depth tour of Nikon’s Hikari Glass factory (imaging-resource.com)\n",
      "        84 points by sohkamyung 7 hours ago  | hide | 17 comments              \n",
      "      \n",
      "                \n",
      "      10.      FDA clears first contact lens with light-adaptive technology (fda.gov)\n",
      "        20 points by JumpCrisscross 3 hours ago  | hide | 13 comments              \n",
      "      \n",
      "                \n",
      "      11.      Proof-Of-Work is a Decentralized Clock (grisha.org)\n",
      "        171 points by gtrubetskoy 11 hours ago  | hide | 95 comments              \n",
      "      \n",
      "                \n",
      "      12.      A step-by-step guide to the “World Models” AI paper (applied-data.science)\n",
      "        206 points by davidfoster 14 hours ago  | hide | 26 comments              \n",
      "      \n",
      "                \n",
      "      13.      Mailtrain.org, self-hosted open-source newsletter app like Mailchimp (github.com)\n",
      "        86 points by mottiden 10 hours ago  | hide | 30 comments              \n",
      "      \n",
      "                \n",
      "      14.      Operant Conditioning by Software Bugs (2012) (regehr.org)\n",
      "        51 points by skybrian 8 hours ago  | hide | 5 comments              \n",
      "      \n",
      "                \n",
      "      15.      Huawei, Failing to Crack U.S. Market, Signals a Change in Tactics (nytimes.com)\n",
      "        66 points by johnny313 8 hours ago  | hide | 24 comments              \n",
      "      \n",
      "                \n",
      "      16.      You Share Everything with Your Friends, Even Brain Waves (nytimes.com)\n",
      "        95 points by montrose 12 hours ago  | hide | 38 comments              \n",
      "      \n",
      "                \n",
      "      17.      HelloSign (YC W11) Is Hiring Its First SFDC (Apex) Engineer. Remote (US Only) (lever.co)\n",
      "        1 hour ago | hide      \n",
      "      \n",
      "                \n",
      "      18.      A Contagious Cancer That Jumped Between Species (theatlantic.com)\n",
      "        90 points by katiey 11 hours ago  | hide | 23 comments              \n",
      "      \n",
      "                \n",
      "      19.      Startup Mechanics (2017) [video] (ycombinator.com)\n",
      "        15 points by DanielRibeiro 4 hours ago  | hide | discuss              \n",
      "      \n",
      "                \n",
      "      20.      Show HN: I Write In-Depth Wordpress Plugin Reviews (wpplugincheck.com)\n",
      "        38 points by shash7 8 hours ago  | hide | 7 comments              \n",
      "      \n",
      "                \n",
      "      21.      Carl Kasell Has Died (npr.org)\n",
      "        159 points by Bud 8 hours ago  | hide | 16 comments              \n",
      "      \n",
      "                \n",
      "      22.      BBC Sound Effects made available to download for use under RemArc Licence (acropolis.org.uk)\n",
      "        20 points by sohkamyung 5 hours ago  | hide | 1 comment              \n",
      "      \n",
      "                \n",
      "      23.      A smarter SmartOS? (hypoalex.github.io)\n",
      "        10 points by cxrbxn 3 hours ago  | hide | 1 comment              \n",
      "      \n",
      "                \n",
      "      24.      An Augmented Reality Microscope for Cancer Detection (googleblog.com)\n",
      "        109 points by kbyatnal 14 hours ago  | hide | 14 comments              \n",
      "      \n",
      "                \n",
      "      25.      Improved Hubble data provide fresh evidence for new physics (jhu.edu)\n",
      "        50 points by rbanffy 11 hours ago  | hide | 16 comments              \n",
      "      \n",
      "                \n",
      "      26.      Oracle owns “JavaScript”, so Apple is taking down my app (reddit.com)\n",
      "        294 points by petercooper 9 hours ago  | hide | 125 comments              \n",
      "      \n",
      "                \n",
      "      27.      Dependency injection on Android with dagger-android and Kotlin (albertgao.xyz)\n",
      "        22 points by albertgao 6 hours ago  | hide | 8 comments              \n",
      "      \n",
      "                \n",
      "      28.      Insomnia GraphQL Support (insomnia.rest)\n",
      "        66 points by gschier 6 hours ago  | hide | 10 comments              \n",
      "      \n",
      "                \n",
      "      29.      FDA permits marketing of AI-based device to detect diabetes-related eye problems (fda.gov)\n",
      "        266 points by nradov 16 hours ago  | hide | 95 comments              \n",
      "      \n",
      "                \n",
      "      30.      Using network effects (not patents) to build defensible software (builtbykrit.com)\n",
      "        13 points by askins4trouble 7 hours ago  | hide | 2 comments              \n",
      "      \n",
      "            More\n",
      "  \n",
      "\n",
      "Guidelines\n",
      "        | FAQ\n",
      "        | Support\n",
      "        | API\n",
      "        | Security\n",
      "        | Lists\n",
      "        | Bookmarklet\n",
      "        | Legal\n",
      "        | Apply to YC\n",
      "        | ContactSearch:\n",
      "          \n",
      "            \n",
      "      \n",
      "  \n",
      "\n"
     ]
    }
   ],
   "source": [
    "from bs4 import BeautifulSoup\n",
    "\n",
    "# Remove HTML tags using Beautiful Soup library\n",
    "soup = BeautifulSoup(r.text, \"html5lib\")\n",
    "print(soup.get_text())"
   ]
  },
  {
   "cell_type": "code",
   "execution_count": 4,
   "metadata": {
    "scrolled": true
   },
   "outputs": [
    {
     "data": {
      "text/plain": [
       "<tr class=\"athing\" id=\"16862925\">\n",
       "      <td align=\"right\" class=\"title\" valign=\"top\"><span class=\"rank\">1.</span></td>      <td class=\"votelinks\" valign=\"top\"><center><a href=\"vote?id=16862925&amp;how=up&amp;goto=news\" id=\"up_16862925\"><div class=\"votearrow\" title=\"upvote\"></div></a></center></td><td class=\"title\"><a class=\"storylink\" href=\"https://www.mozilla.org/en-US/firefox/facebookcontainer\">Facebook Container for Firefox</a><span class=\"sitebit comhead\"> (<a href=\"from?site=mozilla.org\"><span class=\"sitestr\">mozilla.org</span></a>)</span></td></tr>"
      ]
     },
     "execution_count": 4,
     "metadata": {},
     "output_type": "execute_result"
    }
   ],
   "source": [
    "# Find all articles\n",
    "summaries = soup.find_all(\"tr\", class_=\"athing\")\n",
    "summaries[0]"
   ]
  },
  {
   "cell_type": "code",
   "execution_count": 5,
   "metadata": {},
   "outputs": [
    {
     "data": {
      "text/plain": [
       "'Facebook Container for Firefox'"
      ]
     },
     "execution_count": 5,
     "metadata": {},
     "output_type": "execute_result"
    }
   ],
   "source": [
    "# Extract title\n",
    "summaries[0].find(\"a\", class_=\"storylink\").get_text().strip()"
   ]
  },
  {
   "cell_type": "code",
   "execution_count": 6,
   "metadata": {},
   "outputs": [
    {
     "name": "stdout",
     "output_type": "stream",
     "text": [
      "30 Article summaries found. Sample:\n",
      "Facebook Container for Firefox\n"
     ]
    }
   ],
   "source": [
    "# Find all articles, extract titles\n",
    "articles = []\n",
    "summaries = soup.find_all(\"tr\", class_=\"athing\")\n",
    "for summary in summaries:\n",
    "    title = summary.find(\"a\", class_=\"storylink\").get_text().strip()\n",
    "    articles.append((title))\n",
    "\n",
    "print(len(articles), \"Article summaries found. Sample:\")\n",
    "print(articles[0])"
   ]
  },
  {
   "cell_type": "markdown",
   "metadata": {
    "collapsed": true
   },
   "source": [
    "## Normalization"
   ]
  },
  {
   "cell_type": "markdown",
   "metadata": {},
   "source": [
    "### Case Normalization"
   ]
  },
  {
   "cell_type": "code",
   "execution_count": 10,
   "metadata": {},
   "outputs": [
    {
     "name": "stdout",
     "output_type": "stream",
     "text": [
      "The first time you see The Second Renaissance it's may look boring! Look at it at least twice and definitely watch part 2. It will change your view of the matrix. Are the human people the ones who started the war ? Is AI a bad thing ?\n"
     ]
    }
   ],
   "source": [
    "# Sample text\n",
    "text = \"The first time you see The Second Renaissance it's may look boring! Look at it at least twice and definitely watch part 2. It will change your view of the matrix. Are the human people the ones who started the war ? Is AI a bad thing ?\"\n",
    "print(text)"
   ]
  },
  {
   "cell_type": "code",
   "execution_count": 11,
   "metadata": {},
   "outputs": [
    {
     "name": "stdout",
     "output_type": "stream",
     "text": [
      "the first time you see the second renaissance it's may look boring! look at it at least twice and definitely watch part 2. it will change your view of the matrix. are the human people the ones who started the war ? is ai a bad thing ?\n"
     ]
    }
   ],
   "source": [
    "# Convert to lowercase\n",
    "text = text.lower() \n",
    "print(text)"
   ]
  },
  {
   "cell_type": "markdown",
   "metadata": {},
   "source": [
    "### Punctuation Removal"
   ]
  },
  {
   "cell_type": "code",
   "execution_count": 10,
   "metadata": {},
   "outputs": [
    {
     "name": "stdout",
     "output_type": "stream",
     "text": [
      "The first time you see The Second Renaissance it may look boring  Look at it at least twice and definitely watch part 2  It will change your view of the matrix  Are the human people the ones who started the war   Is AI a bad thing  \n"
     ]
    }
   ],
   "source": [
    "import re\n",
    "\n",
    "# Remove punctuation characters\n",
    "text = re.sub(r\"[^a-zA-Z0-9]\", \" \", text) \n",
    "print(text)"
   ]
  },
  {
   "cell_type": "markdown",
   "metadata": {},
   "source": [
    "## Tokenization"
   ]
  },
  {
   "cell_type": "code",
   "execution_count": 11,
   "metadata": {},
   "outputs": [
    {
     "name": "stdout",
     "output_type": "stream",
     "text": [
      "['The', 'first', 'time', 'you', 'see', 'The', 'Second', 'Renaissance', 'it', 'may', 'look', 'boring', 'Look', 'at', 'it', 'at', 'least', 'twice', 'and', 'definitely', 'watch', 'part', '2', 'It', 'will', 'change', 'your', 'view', 'of', 'the', 'matrix', 'Are', 'the', 'human', 'people', 'the', 'ones', 'who', 'started', 'the', 'war', 'Is', 'AI', 'a', 'bad', 'thing']\n"
     ]
    }
   ],
   "source": [
    "# Split text into tokens (words)\n",
    "words = text.split()\n",
    "print(words)"
   ]
  },
  {
   "cell_type": "markdown",
   "metadata": {},
   "source": [
    "### NLTK: Natural Language ToolKit"
   ]
  },
  {
   "cell_type": "code",
   "execution_count": null,
   "metadata": {},
   "outputs": [],
   "source": [
    "import os\n",
    "import nltk\n",
    "nltk.data.path.append(os.path.join(os.getcwd(), \"nltk_data\"))"
   ]
  },
  {
   "cell_type": "code",
   "execution_count": 17,
   "metadata": {},
   "outputs": [
    {
     "name": "stdout",
     "output_type": "stream",
     "text": [
      "Dr. Smith graduated from the University of Washington. He later started an analytics firm called Lux, which catered to enterprise customers. It's here! \n"
     ]
    }
   ],
   "source": [
    "# Another sample text\n",
    "text = \"Dr. Smith graduated from the University of Washington. He later started an analytics firm called Lux, which catered to enterprise customers. It's here! \"\n",
    "print(text)"
   ]
  },
  {
   "cell_type": "code",
   "execution_count": 22,
   "metadata": {},
   "outputs": [
    {
     "name": "stdout",
     "output_type": "stream",
     "text": [
      "['Dr.', 'Smith', 'graduated', 'from', 'the', 'University', 'of', 'Washington.', 'He', 'later', 'started', 'an', 'analytics', 'firm', 'called', 'Lux,', 'which', 'catered', 'to', 'enterprise', 'customers.', \"It's\", 'here!']\n"
     ]
    }
   ],
   "source": [
    "words = text.split()\n",
    "print(words)"
   ]
  },
  {
   "cell_type": "code",
   "execution_count": 12,
   "metadata": {},
   "outputs": [
    {
     "name": "stdout",
     "output_type": "stream",
     "text": [
      "[nltk_data] Downloading package punkt to /root/nltk_data...\n",
      "[nltk_data]   Unzipping tokenizers/punkt.zip.\n",
      "['The', 'first', 'time', 'you', 'see', 'The', 'Second', 'Renaissance', 'it', 'may', 'look', 'boring', 'Look', 'at', 'it', 'at', 'least', 'twice', 'and', 'definitely', 'watch', 'part', '2', 'It', 'will', 'change', 'your', 'view', 'of', 'the', 'matrix', 'Are', 'the', 'human', 'people', 'the', 'ones', 'who', 'started', 'the', 'war', 'Is', 'AI', 'a', 'bad', 'thing']\n"
     ]
    }
   ],
   "source": [
    "from nltk.tokenize import word_tokenize\n",
    "import nltk\n",
    "nltk.download('punkt')\n",
    "\n",
    "# Split text into words using NLTK\n",
    "words = word_tokenize(text)\n",
    "print(words)"
   ]
  },
  {
   "cell_type": "code",
   "execution_count": 23,
   "metadata": {},
   "outputs": [
    {
     "name": "stdout",
     "output_type": "stream",
     "text": [
      "['Dr. Smith graduated from the University of Washington.', 'He later started an analytics firm called Lux, which catered to enterprise customers.', \"It's here!\"]\n"
     ]
    }
   ],
   "source": [
    "from nltk.tokenize import sent_tokenize\n",
    "\n",
    "# Split text into sentences\n",
    "sentences = sent_tokenize(text)\n",
    "print(sentences)"
   ]
  },
  {
   "cell_type": "code",
   "execution_count": 8,
   "metadata": {},
   "outputs": [
    {
     "name": "stdout",
     "output_type": "stream",
     "text": [
      "[nltk_data] Downloading package stopwords to /root/nltk_data...\n",
      "[nltk_data]   Unzipping corpora/stopwords.zip.\n",
      "['i', 'me', 'my', 'myself', 'we', 'our', 'ours', 'ourselves', 'you', \"you're\", \"you've\", \"you'll\", \"you'd\", 'your', 'yours', 'yourself', 'yourselves', 'he', 'him', 'his', 'himself', 'she', \"she's\", 'her', 'hers', 'herself', 'it', \"it's\", 'its', 'itself', 'they', 'them', 'their', 'theirs', 'themselves', 'what', 'which', 'who', 'whom', 'this', 'that', \"that'll\", 'these', 'those', 'am', 'is', 'are', 'was', 'were', 'be', 'been', 'being', 'have', 'has', 'had', 'having', 'do', 'does', 'did', 'doing', 'a', 'an', 'the', 'and', 'but', 'if', 'or', 'because', 'as', 'until', 'while', 'of', 'at', 'by', 'for', 'with', 'about', 'against', 'between', 'into', 'through', 'during', 'before', 'after', 'above', 'below', 'to', 'from', 'up', 'down', 'in', 'out', 'on', 'off', 'over', 'under', 'again', 'further', 'then', 'once', 'here', 'there', 'when', 'where', 'why', 'how', 'all', 'any', 'both', 'each', 'few', 'more', 'most', 'other', 'some', 'such', 'no', 'nor', 'not', 'only', 'own', 'same', 'so', 'than', 'too', 'very', 's', 't', 'can', 'will', 'just', 'don', \"don't\", 'should', \"should've\", 'now', 'd', 'll', 'm', 'o', 're', 've', 'y', 'ain', 'aren', \"aren't\", 'couldn', \"couldn't\", 'didn', \"didn't\", 'doesn', \"doesn't\", 'hadn', \"hadn't\", 'hasn', \"hasn't\", 'haven', \"haven't\", 'isn', \"isn't\", 'ma', 'mightn', \"mightn't\", 'mustn', \"mustn't\", 'needn', \"needn't\", 'shan', \"shan't\", 'shouldn', \"shouldn't\", 'wasn', \"wasn't\", 'weren', \"weren't\", 'won', \"won't\", 'wouldn', \"wouldn't\"]\n"
     ]
    }
   ],
   "source": [
    "# List stop words\n",
    "from nltk.corpus import stopwords\n",
    "import nltk\n",
    "nltk.download('stopwords')\n",
    "print(stopwords.words(\"english\"))"
   ]
  },
  {
   "cell_type": "code",
   "execution_count": 13,
   "metadata": {},
   "outputs": [
    {
     "name": "stdout",
     "output_type": "stream",
     "text": [
      "['the', 'first', 'time', 'you', 'see', 'the', 'second', 'renaissance', 'it', 'may', 'look', 'boring', 'look', 'at', 'it', 'at', 'least', 'twice', 'and', 'definitely', 'watch', 'part', '2', 'it', 'will', 'change', 'your', 'view', 'of', 'the', 'matrix', 'are', 'the', 'human', 'people', 'the', 'ones', 'who', 'started', 'the', 'war', 'is', 'ai', 'a', 'bad', 'thing']\n"
     ]
    }
   ],
   "source": [
    "# Reset text\n",
    "text = \"The first time you see The Second Renaissance it may look boring. Look at it at least twice and definitely watch part 2. It will change your view of the matrix. Are the human people the ones who started the war ? Is AI a bad thing ?\"\n",
    "\n",
    "# Normalize it\n",
    "text = re.sub(r\"[^a-zA-Z0-9]\", \" \", text.lower())\n",
    "\n",
    "# Tokenize it\n",
    "words = text.split()\n",
    "print(words)"
   ]
  },
  {
   "cell_type": "code",
   "execution_count": 14,
   "metadata": {},
   "outputs": [
    {
     "name": "stdout",
     "output_type": "stream",
     "text": [
      "['first', 'time', 'see', 'second', 'renaissance', 'may', 'look', 'boring', 'look', 'least', 'twice', 'definitely', 'watch', 'part', '2', 'change', 'view', 'matrix', 'human', 'people', 'ones', 'started', 'war', 'ai', 'bad', 'thing']\n"
     ]
    }
   ],
   "source": [
    "# Remove stop words\n",
    "words = [w for w in words if w not in stopwords.words(\"english\")]\n",
    "print(words)"
   ]
  },
  {
   "cell_type": "code",
   "execution_count": 10,
   "metadata": {},
   "outputs": [
    {
     "name": "stdout",
     "output_type": "stream",
     "text": [
      "[nltk_data] Downloading package punkt to /root/nltk_data...\n",
      "[nltk_data]   Package punkt is already up-to-date!\n",
      "[nltk_data] Downloading package averaged_perceptron_tagger to\n",
      "[nltk_data]     /root/nltk_data...\n",
      "[nltk_data]   Package averaged_perceptron_tagger is already up-to-\n",
      "[nltk_data]       date!\n"
     ]
    },
    {
     "data": {
      "text/plain": [
       "[('I', 'PRP'),\n",
       " ('always', 'RB'),\n",
       " ('lie', 'VBP'),\n",
       " ('down', 'RP'),\n",
       " ('to', 'TO'),\n",
       " ('tell', 'VB'),\n",
       " ('a', 'DT'),\n",
       " ('lie', 'NN')]"
      ]
     },
     "execution_count": 10,
     "metadata": {},
     "output_type": "execute_result"
    }
   ],
   "source": [
    "from nltk import pos_tag\n",
    "import nltk\n",
    "nltk.download('punkt')\n",
    "import nltk\n",
    "nltk.download('averaged_perceptron_tagger')\n",
    "#Tag parts of Speech (POS)\n",
    "sentence = nltk.word_tokenize(\"I always lie down to tell a lie \")\n",
    "pos_tag(sentence)"
   ]
  },
  {
   "cell_type": "markdown",
   "metadata": {},
   "source": [
    "### Sentence Parsing"
   ]
  },
  {
   "cell_type": "code",
   "execution_count": 15,
   "metadata": {},
   "outputs": [
    {
     "name": "stdout",
     "output_type": "stream",
     "text": [
      "(S\n",
      "  (NP I)\n",
      "  (VP\n",
      "    (VP (V shot) (NP (Det an) (N elephant)))\n",
      "    (PP (P in) (NP (Det my) (N pajamas)))))\n",
      "(S\n",
      "  (NP I)\n",
      "  (VP\n",
      "    (V shot)\n",
      "    (NP (Det an) (N elephant) (PP (P in) (NP (Det my) (N pajamas))))))\n"
     ]
    }
   ],
   "source": [
    "import nltk\n",
    "\n",
    "# Define a custom grammar\n",
    "my_grammar = nltk.CFG.fromstring(\"\"\"\n",
    "S -> NP VP\n",
    "PP -> P NP\n",
    "NP -> Det N | Det N PP | 'I'\n",
    "VP -> V NP | VP PP\n",
    "Det -> 'an' | 'my'\n",
    "N -> 'elephant' | 'pajamas'\n",
    "V -> 'shot'\n",
    "P -> 'in'\n",
    "\"\"\")\n",
    "parser = nltk.ChartParser(my_grammar)\n",
    "\n",
    "# Parse a sentence\n",
    "sentence = nltk.word_tokenize(\"I shot an elephant in my pajamas\")\n",
    "for tree in parser.parse(sentence):\n",
    "    print(tree)"
   ]
  },
  {
   "cell_type": "markdown",
   "metadata": {},
   "source": [
    "## Stemming & Lemmatization\n",
    "\n",
    "### Stemming"
   ]
  },
  {
   "cell_type": "code",
   "execution_count": 16,
   "metadata": {},
   "outputs": [
    {
     "name": "stdout",
     "output_type": "stream",
     "text": [
      "['first', 'time', 'see', 'second', 'renaiss', 'may', 'look', 'bore', 'look', 'least', 'twice', 'definit', 'watch', 'part', '2', 'chang', 'view', 'matrix', 'human', 'peopl', 'one', 'start', 'war', 'ai', 'bad', 'thing']\n"
     ]
    }
   ],
   "source": [
    "from nltk.stem.porter import PorterStemmer\n",
    "\n",
    "# Reduce words to their stems\n",
    "stemmed = [PorterStemmer().stem(w) for w in words]\n",
    "print(stemmed)"
   ]
  },
  {
   "cell_type": "markdown",
   "metadata": {},
   "source": [
    "### Lemmatization"
   ]
  },
  {
   "cell_type": "code",
   "execution_count": 18,
   "metadata": {},
   "outputs": [
    {
     "name": "stdout",
     "output_type": "stream",
     "text": [
      "[nltk_data] Downloading package wordnet to /root/nltk_data...\n",
      "[nltk_data]   Unzipping corpora/wordnet.zip.\n",
      "['first', 'time', 'see', 'second', 'renaissance', 'may', 'look', 'boring', 'look', 'least', 'twice', 'definitely', 'watch', 'part', '2', 'change', 'view', 'matrix', 'human', 'people', 'one', 'started', 'war', 'ai', 'bad', 'thing']\n"
     ]
    }
   ],
   "source": [
    "from nltk.stem.wordnet import WordNetLemmatizer\n",
    "import nltk\n",
    "nltk.download('wordnet')\n",
    "\n",
    "# Reduce words to their root form\n",
    "lemmed = [WordNetLemmatizer().lemmatize(w) for w in words]\n",
    "print(lemmed)"
   ]
  },
  {
   "cell_type": "code",
   "execution_count": null,
   "metadata": {},
   "outputs": [],
   "source": [
    "# Lemmatize verbs by specifying pos\n",
    "lemmed = [WordNetLemmatizer().lemmatize(w, pos='v') for w in lemmed]\n",
    "print(lemmed)"
   ]
  },
  {
   "cell_type": "code",
   "execution_count": 5,
   "metadata": {},
   "outputs": [],
   "source": [
    "A = []\n",
    "B = []\n",
    "C = []\n",
    "for i in range(1000):\n",
    "    if (i % 2) == 0:\n",
    "        A.append(i) \n",
    "    else:\n",
    "        if (i % 2) != 0:\n",
    "            C.append(i)\n",
    "        else:\n",
    "            if (i % 2 ) > 0:\n",
    "                B.append(i)\n"
   ]
  },
  {
   "cell_type": "code",
   "execution_count": 8,
   "metadata": {},
   "outputs": [
    {
     "name": "stdout",
     "output_type": "stream",
     "text": [
      "[]\n"
     ]
    }
   ],
   "source": [
    "print(B) "
   ]
  },
  {
   "cell_type": "code",
   "execution_count": null,
   "metadata": {},
   "outputs": [],
   "source": []
  }
 ],
 "metadata": {
  "kernelspec": {
   "display_name": "Python 3",
   "language": "python",
   "name": "python3"
  },
  "language_info": {
   "codemirror_mode": {
    "name": "ipython",
    "version": 3
   },
   "file_extension": ".py",
   "mimetype": "text/x-python",
   "name": "python",
   "nbconvert_exporter": "python",
   "pygments_lexer": "ipython3",
   "version": "3.6.3"
  }
 },
 "nbformat": 4,
 "nbformat_minor": 2
}
